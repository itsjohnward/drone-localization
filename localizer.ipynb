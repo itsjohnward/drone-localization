{
 "cells": [
  {
   "cell_type": "code",
   "execution_count": 1,
   "id": "ca96d739-5507-4f8b-8703-140152cf3eed",
   "metadata": {},
   "outputs": [
    {
     "name": "stderr",
     "output_type": "stream",
     "text": [
      "/usr/local/lib/python3.10/site-packages/tqdm/auto.py:22: TqdmWarning: IProgress not found. Please update jupyter and ipywidgets. See https://ipywidgets.readthedocs.io/en/stable/user_install.html\n",
      "  from .autonotebook import tqdm as notebook_tqdm\n"
     ]
    }
   ],
   "source": [
    "%load_ext autoreload\n",
    "%autoreload 2\n",
    "\n",
    "import tello\n",
    "import detection\n",
    "import depth"
   ]
  },
  {
   "cell_type": "code",
   "execution_count": 2,
   "id": "581568b1-cc6d-462d-8ee4-07ec123e0256",
   "metadata": {},
   "outputs": [
    {
     "name": "stdout",
     "output_type": "stream",
     "text": [
      "Tello: 13:32:39.674:  Info: start video thread\n",
      "Tello: 13:32:39.674:  Info: send connection request (cmd=\"conn_req:9617\")\n",
      "Tello: 13:32:39.674:  Info: state transit State::disconnected -> State::connecting\n",
      "Tello: 13:32:39.681:  Info: video receive buffer size = 425984\n",
      "Tello: 13:32:40.537:  Info: connected. (port=9617)\n",
      "Tello: 13:32:40.538:  Info: send_time (cmd=0x46 seq=0x01e4)\n",
      "Tello: 13:32:40.554:  Info: state transit State::connecting -> State::connected\n"
     ]
    }
   ],
   "source": [
    "drone = tello.Tello()"
   ]
  },
  {
   "cell_type": "code",
   "execution_count": 3,
   "id": "cd354577-788b-4055-b249-ad9516986fde",
   "metadata": {},
   "outputs": [
    {
     "name": "stdout",
     "output_type": "stream",
     "text": [
      "Tello: 13:32:40.581:  Info: get video stream\n",
      "Tello: 13:32:40.582:  Info: start video (cmd=0x25 seq=0x01e4)\n",
      "Tello: 13:32:40.587:  Info: recv: ack: cmd=0x34 seq=0x0000 cc 60 00 27 90 34 00 00 00 00 72 a5\n",
      "Tello: 13:32:40.587:  Info: recv: ack: cmd=0x20 seq=0x0000 cc 60 00 27 b0 20 00 00 00 00 42 b9\n",
      "Tello: 13:32:40.588:  Info: recv: ack: cmd=0x34 seq=0x0000 cc 60 00 27 90 34 00 00 00 00 72 a5\n",
      "Tello: 13:32:40.588:  Info: recv: ack: cmd=0x20 seq=0x0000 cc 60 00 27 b0 20 00 00 00 00 42 b9\n",
      "Tello: 13:32:43.309:  Info: video data 765033 bytes 371.8KB/sec\n"
     ]
    },
    {
     "name": "stderr",
     "output_type": "stream",
     "text": [
      "non-existing PPS 0 referenced\n",
      "non-existing PPS 0 referenced\n",
      "decode_slice_header error\n",
      "no frame!\n",
      "non-existing PPS 0 referenced\n",
      "non-existing PPS 0 referenced\n",
      "decode_slice_header error\n",
      "no frame!\n",
      "non-existing PPS 0 referenced\n",
      "non-existing PPS 0 referenced\n",
      "decode_slice_header error\n",
      "no frame!\n",
      "non-existing PPS 0 referenced\n",
      "non-existing PPS 0 referenced\n",
      "decode_slice_header error\n",
      "no frame!\n",
      "non-existing PPS 0 referenced\n",
      "non-existing PPS 0 referenced\n",
      "decode_slice_header error\n",
      "no frame!\n",
      "non-existing PPS 0 referenced\n",
      "non-existing PPS 0 referenced\n",
      "decode_slice_header error\n",
      "no frame!\n",
      "non-existing PPS 0 referenced\n",
      "non-existing PPS 0 referenced\n",
      "decode_slice_header error\n",
      "no frame!\n",
      "non-existing PPS 0 referenced\n",
      "non-existing PPS 0 referenced\n",
      "decode_slice_header error\n",
      "no frame!\n",
      "non-existing PPS 0 referenced\n",
      "non-existing PPS 0 referenced\n",
      "decode_slice_header error\n",
      "no frame!\n",
      "non-existing PPS 0 referenced\n",
      "non-existing PPS 0 referenced\n",
      "decode_slice_header error\n",
      "no frame!\n",
      "non-existing PPS 0 referenced\n",
      "non-existing PPS 0 referenced\n",
      "decode_slice_header error\n",
      "no frame!\n",
      "non-existing PPS 0 referenced\n",
      "non-existing PPS 0 referenced\n",
      "decode_slice_header error\n",
      "no frame!\n",
      "non-existing PPS 0 referenced\n",
      "non-existing PPS 0 referenced\n",
      "decode_slice_header error\n",
      "no frame!\n",
      "non-existing PPS 0 referenced\n",
      "non-existing PPS 0 referenced\n",
      "decode_slice_header error\n",
      "no frame!\n",
      "non-existing PPS 0 referenced\n",
      "non-existing PPS 0 referenced\n",
      "decode_slice_header error\n",
      "no frame!\n",
      "non-existing PPS 0 referenced\n",
      "non-existing PPS 0 referenced\n",
      "decode_slice_header error\n",
      "no frame!\n",
      "non-existing PPS 0 referenced\n",
      "non-existing PPS 0 referenced\n",
      "decode_slice_header error\n",
      "no frame!\n",
      "non-existing PPS 0 referenced\n",
      "non-existing PPS 0 referenced\n",
      "decode_slice_header error\n",
      "no frame!\n",
      "non-existing PPS 0 referenced\n",
      "non-existing PPS 0 referenced\n",
      "decode_slice_header error\n",
      "no frame!\n",
      "non-existing PPS 0 referenced\n",
      "non-existing PPS 0 referenced\n",
      "decode_slice_header error\n",
      "no frame!\n",
      "non-existing PPS 0 referenced\n",
      "non-existing PPS 0 referenced\n",
      "decode_slice_header error\n",
      "no frame!\n",
      "non-existing PPS 0 referenced\n",
      "non-existing PPS 0 referenced\n",
      "decode_slice_header error\n",
      "no frame!\n",
      "non-existing PPS 0 referenced\n",
      "non-existing PPS 0 referenced\n",
      "decode_slice_header error\n",
      "no frame!\n",
      "non-existing PPS 0 referenced\n",
      "non-existing PPS 0 referenced\n",
      "decode_slice_header error\n",
      "no frame!\n",
      "non-existing PPS 0 referenced\n",
      "non-existing PPS 0 referenced\n",
      "decode_slice_header error\n",
      "no frame!\n",
      "non-existing PPS 0 referenced\n",
      "non-existing PPS 0 referenced\n",
      "decode_slice_header error\n",
      "no frame!\n",
      "non-existing PPS 0 referenced\n",
      "non-existing PPS 0 referenced\n",
      "decode_slice_header error\n",
      "no frame!\n",
      "non-existing PPS 0 referenced\n",
      "non-existing PPS 0 referenced\n",
      "decode_slice_header error\n",
      "no frame!\n",
      "non-existing PPS 0 referenced\n",
      "non-existing PPS 0 referenced\n",
      "decode_slice_header error\n",
      "no frame!\n",
      "non-existing PPS 0 referenced\n",
      "non-existing PPS 0 referenced\n",
      "decode_slice_header error\n",
      "no frame!\n",
      "non-existing PPS 0 referenced\n",
      "non-existing PPS 0 referenced\n",
      "decode_slice_header error\n",
      "no frame!\n",
      "non-existing PPS 0 referenced\n",
      "non-existing PPS 0 referenced\n",
      "decode_slice_header error\n",
      "no frame!\n",
      "non-existing PPS 0 referenced\n",
      "non-existing PPS 0 referenced\n",
      "decode_slice_header error\n",
      "no frame!\n",
      "non-existing PPS 0 referenced\n",
      "non-existing PPS 0 referenced\n",
      "decode_slice_header error\n",
      "no frame!\n",
      "non-existing PPS 0 referenced\n",
      "non-existing PPS 0 referenced\n",
      "decode_slice_header error\n",
      "no frame!\n",
      "non-existing PPS 0 referenced\n",
      "non-existing PPS 0 referenced\n",
      "decode_slice_header error\n",
      "no frame!\n",
      "non-existing PPS 0 referenced\n",
      "non-existing PPS 0 referenced\n",
      "decode_slice_header error\n",
      "no frame!\n",
      "non-existing PPS 0 referenced\n",
      "non-existing PPS 0 referenced\n",
      "decode_slice_header error\n",
      "no frame!\n",
      "non-existing PPS 0 referenced\n",
      "non-existing PPS 0 referenced\n",
      "decode_slice_header error\n",
      "no frame!\n",
      "non-existing PPS 0 referenced\n",
      "non-existing PPS 0 referenced\n",
      "decode_slice_header error\n",
      "no frame!\n",
      "non-existing PPS 0 referenced\n",
      "non-existing PPS 0 referenced\n",
      "decode_slice_header error\n",
      "no frame!\n",
      "non-existing PPS 0 referenced\n",
      "non-existing PPS 0 referenced\n",
      "decode_slice_header error\n",
      "no frame!\n",
      "non-existing PPS 0 referenced\n",
      "non-existing PPS 0 referenced\n",
      "decode_slice_header error\n",
      "no frame!\n",
      "non-existing PPS 0 referenced\n",
      "non-existing PPS 0 referenced\n",
      "decode_slice_header error\n",
      "no frame!\n",
      "non-existing PPS 0 referenced\n",
      "non-existing PPS 0 referenced\n",
      "decode_slice_header error\n",
      "no frame!\n",
      "non-existing PPS 0 referenced\n",
      "non-existing PPS 0 referenced\n",
      "decode_slice_header error\n",
      "no frame!\n",
      "non-existing PPS 0 referenced\n",
      "non-existing PPS 0 referenced\n",
      "decode_slice_header error\n",
      "no frame!\n",
      "non-existing PPS 0 referenced\n",
      "non-existing PPS 0 referenced\n",
      "decode_slice_header error\n",
      "no frame!\n",
      "non-existing PPS 0 referenced\n",
      "non-existing PPS 0 referenced\n",
      "decode_slice_header error\n",
      "no frame!\n",
      "non-existing PPS 0 referenced\n",
      "non-existing PPS 0 referenced\n",
      "decode_slice_header error\n",
      "no frame!\n",
      "non-existing PPS 0 referenced\n",
      "non-existing PPS 0 referenced\n",
      "decode_slice_header error\n",
      "no frame!\n",
      "non-existing PPS 0 referenced\n",
      "non-existing PPS 0 referenced\n",
      "decode_slice_header error\n",
      "no frame!\n",
      "non-existing PPS 0 referenced\n",
      "non-existing PPS 0 referenced\n",
      "decode_slice_header error\n",
      "no frame!\n",
      "non-existing PPS 0 referenced\n",
      "non-existing PPS 0 referenced\n",
      "decode_slice_header error\n",
      "no frame!\n",
      "non-existing PPS 0 referenced\n",
      "non-existing PPS 0 referenced\n",
      "decode_slice_header error\n",
      "no frame!\n",
      "non-existing PPS 0 referenced\n",
      "non-existing PPS 0 referenced\n",
      "decode_slice_header error\n",
      "no frame!\n",
      "non-existing PPS 0 referenced\n",
      "non-existing PPS 0 referenced\n",
      "decode_slice_header error\n",
      "no frame!\n",
      "non-existing PPS 0 referenced\n",
      "non-existing PPS 0 referenced\n",
      "decode_slice_header error\n",
      "no frame!\n",
      "non-existing PPS 0 referenced\n",
      "non-existing PPS 0 referenced\n",
      "decode_slice_header error\n",
      "no frame!\n",
      "non-existing PPS 0 referenced\n",
      "non-existing PPS 0 referenced\n",
      "decode_slice_header error\n",
      "no frame!\n",
      "non-existing PPS 0 referenced\n",
      "non-existing PPS 0 referenced\n",
      "decode_slice_header error\n",
      "no frame!\n",
      "non-existing PPS 0 referenced\n",
      "non-existing PPS 0 referenced\n",
      "decode_slice_header error\n",
      "no frame!\n",
      "non-existing PPS 0 referenced\n",
      "non-existing PPS 0 referenced\n",
      "decode_slice_header error\n",
      "no frame!\n"
     ]
    },
    {
     "name": "stdout",
     "output_type": "stream",
     "text": [
      "Tello: 13:32:45.309:  Info: video data 759771 bytes 371.0KB/sec loss=1\n"
     ]
    },
    {
     "name": "stderr",
     "output_type": "stream",
     "text": [
      "error while decoding MB 11 13, bytestream -6\n"
     ]
    },
    {
     "name": "stdout",
     "output_type": "stream",
     "text": [
      "Tello: 13:32:47.310:  Info: video data 751969 bytes 367.0KB/sec\n",
      "Tello: 13:32:49.311:  Info: video data 748809 bytes 365.4KB/sec\n"
     ]
    },
    {
     "name": "stderr",
     "output_type": "stream",
     "text": [
      "error while decoding MB 39 14, bytestream -6\n",
      "error while decoding MB 57 26, bytestream -6\n"
     ]
    },
    {
     "name": "stdout",
     "output_type": "stream",
     "text": [
      "Tello: 13:32:50.315:  Info: video recv: 1460 bytes a300 +100\n",
      "Tello: 13:32:50.475:  Info: video recv: 1460 bytes a700 +121\n"
     ]
    },
    {
     "name": "stderr",
     "output_type": "stream",
     "text": [
      "error while decoding MB 47 38, bytestream -8\n"
     ]
    },
    {
     "name": "stdout",
     "output_type": "stream",
     "text": [
      "Tello: 13:32:50.608:  Info: video recv: 1460 bytes ab00 +120\n"
     ]
    },
    {
     "name": "stderr",
     "output_type": "stream",
     "text": [
      "error while decoding MB 25 5, bytestream -6\n",
      "error while decoding MB 58 14, bytestream -6\n"
     ]
    },
    {
     "name": "stdout",
     "output_type": "stream",
     "text": [
      "Tello: 13:32:51.317:  Info: video recv: 1460 bytes be04 +151\n",
      "Tello: 13:32:51.318:  Info: video data 676855 bytes 329.5KB/sec loss=6\n",
      "Tello: 13:32:51.489:  Info: video recv: 1460 bytes c004 +139\n"
     ]
    },
    {
     "name": "stderr",
     "output_type": "stream",
     "text": [
      "error while decoding MB 18 41, bytestream -6\n"
     ]
    },
    {
     "name": "stdout",
     "output_type": "stream",
     "text": [
      "Tello: 13:32:53.339:  Info: video data 812813 bytes 392.8KB/sec loss=12\n"
     ]
    },
    {
     "name": "stderr",
     "output_type": "stream",
     "text": [
      "error while decoding MB 22 18, bytestream -5\n",
      "error while decoding MB 23 21, bytestream -6\n",
      "error while decoding MB 33 32, bytestream -6\n"
     ]
    },
    {
     "name": "stdout",
     "output_type": "stream",
     "text": [
      "Tello: 13:32:53.583:  Info: video recv: 1460 bytes 0505 +134\n",
      "Tello: 13:32:53.717:  Info: video recv: 1460 bytes 0807 +102\n"
     ]
    },
    {
     "name": "stderr",
     "output_type": "stream",
     "text": [
      "error while decoding MB 52 14, bytestream -6\n",
      "error while decoding MB 57 14, bytestream -6\n",
      "error while decoding MB 7 6, bytestream -6\n",
      "error while decoding MB 5 8, bytestream -6\n",
      "error while decoding MB 5 8, bytestream -8\n"
     ]
    },
    {
     "name": "stdout",
     "output_type": "stream",
     "text": [
      "Tello: 13:32:53.987:  Info: video recv: 1460 bytes 0f01 +150\n",
      "Tello: 13:32:54.156:  Info: video recv: 1460 bytes 1204 +148\n"
     ]
    },
    {
     "name": "stderr",
     "output_type": "stream",
     "text": [
      "No accelerated colorspace conversion found from yuv420p to rgb24.\n",
      "/usr/local/lib/python3.10/site-packages/torchvision/io/image.py:13: UserWarning: Failed to load image Python extension: \n",
      "  warn(f\"Failed to load image Python extension: {e}\")\n"
     ]
    },
    {
     "name": "stdout",
     "output_type": "stream",
     "text": [
      "Tello: 13:32:55.339:  Info: video data 731172 bytes 356.9KB/sec loss=11\n"
     ]
    },
    {
     "name": "stderr",
     "output_type": "stream",
     "text": [
      "YOLOv5 🚀 2022-7-29 Python-3.10.5 torch-1.12.0 CPU\n",
      "\n",
      "Fusing layers... \n",
      "YOLOv5s summary: 213 layers, 7225885 parameters, 0 gradients\n",
      "Adding AutoShape... \n"
     ]
    },
    {
     "name": "stdout",
     "output_type": "stream",
     "text": [
      "detections Empty DataFrame\n",
      "Columns: [xmin, ymin, xmax, ymax, confidence, class, name]\n",
      "Index: []\n"
     ]
    },
    {
     "data": {
      "text/plain": [
       "(array([[[ 46,  46,  46],\n",
       "         [ 44,  44,  44],\n",
       "         [ 42,  42,  42],\n",
       "         ...,\n",
       "         [ 54,  68,  76],\n",
       "         [ 54,  68,  76],\n",
       "         [ 54,  68,  76]],\n",
       " \n",
       "        [[ 47,  47,  47],\n",
       "         [ 44,  44,  44],\n",
       "         [ 42,  42,  42],\n",
       "         ...,\n",
       "         [ 54,  68,  76],\n",
       "         [ 54,  68,  76],\n",
       "         [ 54,  68,  76]],\n",
       " \n",
       "        [[ 46,  46,  46],\n",
       "         [ 45,  45,  45],\n",
       "         [ 42,  42,  42],\n",
       "         ...,\n",
       "         [ 54,  68,  76],\n",
       "         [ 54,  68,  76],\n",
       "         [ 54,  68,  76]],\n",
       " \n",
       "        ...,\n",
       " \n",
       "        [[165, 164, 168],\n",
       "         [165, 164, 168],\n",
       "         [166, 165, 169],\n",
       "         ...,\n",
       "         [119, 129, 129],\n",
       "         [119, 129, 129],\n",
       "         [119, 129, 129]],\n",
       " \n",
       "        [[166, 165, 169],\n",
       "         [165, 164, 168],\n",
       "         [166, 165, 169],\n",
       "         ...,\n",
       "         [119, 129, 129],\n",
       "         [119, 129, 129],\n",
       "         [119, 129, 129]],\n",
       " \n",
       "        [[166, 165, 169],\n",
       "         [166, 165, 169],\n",
       "         [165, 164, 168],\n",
       "         ...,\n",
       "         [119, 129, 129],\n",
       "         [119, 129, 129],\n",
       "         [119, 129, 129]]], dtype=uint8),\n",
       " Empty DataFrame\n",
       " Columns: [xmin, ymin, xmax, ymax, confidence, class, name]\n",
       " Index: [])"
      ]
     },
     "metadata": {},
     "output_type": "display_data"
    },
    {
     "name": "stdout",
     "output_type": "stream",
     "text": [
      "Tello: 13:32:57.339:  Info: video data 757014 bytes 369.6KB/sec loss=-1\n",
      "Tello: 13:32:59.342:  Info: video data 745226 bytes 363.4KB/sec\n",
      "Tello: 13:33:01.342:  Info: video data 756669 bytes 369.5KB/sec\n",
      "Tello: 13:33:02.646:  Info: video recv: 1460 bytes 2000 +137\n",
      "Tello: 13:33:03.345:  Info: video data 750501 bytes 365.9KB/sec\n",
      "Tello: 13:33:05.371:  Info: video data 757627 bytes 365.2KB/sec\n",
      "Tello: 13:33:07.371:  Info: video data 752108 bytes 367.2KB/sec\n"
     ]
    },
    {
     "data": {
      "text/plain": [
       "array([[     15.856,      15.844,      15.826, ...,      1.7646,      1.7568,      1.7511],\n",
       "       [     15.857,      15.849,      15.837, ...,      1.7663,      1.7579,       1.752],\n",
       "       [     15.856,      15.856,      15.855, ...,      1.7693,      1.7605,      1.7545],\n",
       "       ...,\n",
       "       [     39.864,      39.849,      39.825, ...,        38.1,      38.138,      38.165],\n",
       "       [      39.94,      39.936,      39.928, ...,      38.192,      38.228,      38.252],\n",
       "       [     39.986,       39.99,      39.995, ...,      38.253,      38.286,      38.307]], dtype=float32)"
      ]
     },
     "metadata": {},
     "output_type": "display_data"
    },
    {
     "name": "stdout",
     "output_type": "stream",
     "text": [
      "Tello: 13:33:09.376:  Info: video data 751097 bytes 365.9KB/sec\n",
      "Tello: 13:33:11.377:  Info: video data 751227 bytes 366.6KB/sec\n",
      "Tello: 13:33:13.377:  Info: video data 758274 bytes 370.2KB/sec\n",
      "Tello: 13:33:15.378:  Info: video data 744901 bytes 363.5KB/sec\n",
      "Tello: 13:33:17.379:  Info: video data 751578 bytes 366.8KB/sec\n",
      "Tello: 13:33:19.379:  Info: video data 760398 bytes 371.3KB/sec\n",
      "Tello: 13:33:21.405:  Info: video data 751254 bytes 362.1KB/sec loss=1\n",
      "Tello: 13:33:23.409:  Info: video data 751097 bytes 366.0KB/sec\n",
      "Tello: 13:33:25.409:  Info: video data 752314 bytes 367.3KB/sec\n",
      "Tello: 13:33:27.437:  Info: video data 760539 bytes 366.2KB/sec loss=1\n",
      "Tello: 13:33:29.440:  Info: video data 751268 bytes 366.3KB/sec\n",
      "Tello: 13:33:31.449:  Info: video data 751076 bytes 365.1KB/sec\n",
      "Tello: 13:33:33.449:  Info: video data 755777 bytes 368.9KB/sec\n",
      "Tello: 13:33:35.469:  Info: video data 759305 bytes 367.1KB/sec\n",
      "Tello: 13:33:37.476:  Info: video data 750924 bytes 365.4KB/sec\n",
      "Tello: 13:33:39.477:  Info: video data 751148 bytes 366.7KB/sec\n",
      "Tello: 13:33:41.477:  Info: video data 755531 bytes 368.9KB/sec\n"
     ]
    }
   ],
   "source": [
    "for frame in drone.get_video_frames():\n",
    "    detections = detection.detect_objects(frame)\n",
    "    display(detections)\n",
    "    depths = depth.detect_depth(frame)\n",
    "    display(depths)\n",
    "    break # exit after only one frame"
   ]
  },
  {
   "cell_type": "code",
   "execution_count": null,
   "id": "fb9bf02b-9564-4825-9ac1-23bc86c4842a",
   "metadata": {},
   "outputs": [],
   "source": []
  }
 ],
 "metadata": {
  "kernelspec": {
   "display_name": "Python 3 (ipykernel)",
   "language": "python",
   "name": "python3"
  },
  "language_info": {
   "codemirror_mode": {
    "name": "ipython",
    "version": 3
   },
   "file_extension": ".py",
   "mimetype": "text/x-python",
   "name": "python",
   "nbconvert_exporter": "python",
   "pygments_lexer": "ipython3",
   "version": "3.10.5"
  }
 },
 "nbformat": 4,
 "nbformat_minor": 5
}
