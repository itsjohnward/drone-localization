{
 "cells": [
  {
   "cell_type": "code",
   "execution_count": 2,
   "metadata": {},
   "outputs": [
    {
     "name": "stdout",
     "output_type": "stream",
     "text": [
      "Processing ./depth\n",
      "  Preparing metadata (setup.py) ... \u001b[?25ldone\n",
      "\u001b[?25hRequirement already satisfied: opencv-python in ./env/lib/python3.9/site-packages (from depth==0.0.0) (4.6.0.66)\n",
      "Requirement already satisfied: tensorflow_hub in ./env/lib/python3.9/site-packages (from depth==0.0.0) (0.12.0)\n",
      "Requirement already satisfied: numpy in ./env/lib/python3.9/site-packages (from depth==0.0.0) (1.23.1)\n",
      "Requirement already satisfied: matplotlib in ./env/lib/python3.9/site-packages (from depth==0.0.0) (3.5.2)\n",
      "Requirement already satisfied: tensorflow-aarch64 in ./env/lib/python3.9/site-packages (from depth==0.0.0) (1.2)\n",
      "Requirement already satisfied: pillow>=6.2.0 in ./env/lib/python3.9/site-packages (from matplotlib->depth==0.0.0) (9.2.0)\n",
      "Requirement already satisfied: python-dateutil>=2.7 in ./env/lib/python3.9/site-packages (from matplotlib->depth==0.0.0) (2.8.2)\n",
      "Requirement already satisfied: cycler>=0.10 in ./env/lib/python3.9/site-packages (from matplotlib->depth==0.0.0) (0.11.0)\n",
      "Requirement already satisfied: fonttools>=4.22.0 in ./env/lib/python3.9/site-packages (from matplotlib->depth==0.0.0) (4.34.4)\n",
      "Requirement already satisfied: packaging>=20.0 in ./env/lib/python3.9/site-packages (from matplotlib->depth==0.0.0) (21.3)\n",
      "Requirement already satisfied: kiwisolver>=1.0.1 in ./env/lib/python3.9/site-packages (from matplotlib->depth==0.0.0) (1.4.4)\n",
      "Requirement already satisfied: pyparsing>=2.2.1 in ./env/lib/python3.9/site-packages (from matplotlib->depth==0.0.0) (3.0.9)\n",
      "Requirement already satisfied: protobuf>=3.8.0 in ./env/lib/python3.9/site-packages (from tensorflow_hub->depth==0.0.0) (4.21.3)\n",
      "Requirement already satisfied: six>=1.5 in ./env/lib/python3.9/site-packages (from python-dateutil>=2.7->matplotlib->depth==0.0.0) (1.16.0)\n",
      "Building wheels for collected packages: depth\n",
      "  Building wheel for depth (setup.py) ... \u001b[?25ldone\n",
      "\u001b[?25h  Created wheel for depth: filename=depth-0.0.0-py3-none-any.whl size=2528 sha256=a368c43fd53e268194018fa6a6be225f53c85b95f18fa9f34469db9abfa75ce2\n",
      "  Stored in directory: /private/var/folders/gp/2k_2xf_d27l9yy1rk5f9d2d00000gn/T/pip-ephem-wheel-cache-rhfwlyhg/wheels/e7/99/6a/d37c74dbcc4272e7585ecea3260a761373614e5fb6c97748e1\n",
      "Successfully built depth\n",
      "Installing collected packages: depth\n",
      "  Attempting uninstall: depth\n",
      "    Found existing installation: depth 0.0.0\n",
      "    Uninstalling depth-0.0.0:\n",
      "      Successfully uninstalled depth-0.0.0\n",
      "Successfully installed depth-0.0.0\n"
     ]
    }
   ],
   "source": [
    "!pip install ./depth"
   ]
  },
  {
   "cell_type": "code",
   "execution_count": 16,
   "metadata": {},
   "outputs": [
    {
     "data": {
      "text/plain": [
       "'darwin'"
      ]
     },
     "metadata": {},
     "output_type": "display_data"
    },
    {
     "data": {
      "text/plain": [
       "'arm64'"
      ]
     },
     "metadata": {},
     "output_type": "display_data"
    }
   ],
   "source": [
    "from sys import platform\n",
    "display(platform)\n",
    "from platform import machine\n",
    "display(machine())"
   ]
  },
  {
   "cell_type": "code",
   "execution_count": 9,
   "metadata": {},
   "outputs": [
    {
     "ename": "ModuleNotFoundError",
     "evalue": "No module named 'tensorflow'",
     "output_type": "error",
     "traceback": [
      "\u001b[0;31m---------------------------------------------------------------------------\u001b[0m",
      "\u001b[0;31mModuleNotFoundError\u001b[0m                       Traceback (most recent call last)",
      "\u001b[1;32m/Users/john/drone-localization/localizer.ipynb Cell 3\u001b[0m in \u001b[0;36m<cell line: 1>\u001b[0;34m()\u001b[0m\n\u001b[0;32m----> <a href='vscode-notebook-cell:/Users/john/drone-localization/localizer.ipynb#ch0000000?line=0'>1</a>\u001b[0m \u001b[39mfrom\u001b[39;00m \u001b[39mdepth\u001b[39;00m\u001b[39m.\u001b[39;00m\u001b[39mdepth\u001b[39;00m \u001b[39mimport\u001b[39;00m load_model_network\n\u001b[1;32m      <a href='vscode-notebook-cell:/Users/john/drone-localization/localizer.ipynb#ch0000000?line=1'>2</a>\u001b[0m load_model_network()\n",
      "File \u001b[0;32m~/drone-localization/env/lib/python3.9/site-packages/depth/depth.py:6\u001b[0m, in \u001b[0;36m<module>\u001b[0;34m\u001b[0m\n\u001b[1;32m      3\u001b[0m \u001b[39mimport\u001b[39;00m \u001b[39murllib\u001b[39;00m\u001b[39m.\u001b[39;00m\u001b[39mrequest\u001b[39;00m\n\u001b[1;32m      4\u001b[0m \u001b[39mimport\u001b[39;00m \u001b[39mmatplotlib\u001b[39;00m\u001b[39m.\u001b[39;00m\u001b[39mpyplot\u001b[39;00m \u001b[39mas\u001b[39;00m \u001b[39mplt\u001b[39;00m\n\u001b[0;32m----> 6\u001b[0m \u001b[39mimport\u001b[39;00m \u001b[39mtensorflow\u001b[39;00m \u001b[39mas\u001b[39;00m \u001b[39mtf\u001b[39;00m\n\u001b[1;32m      7\u001b[0m \u001b[39mimport\u001b[39;00m \u001b[39mtensorflow_hub\u001b[39;00m \u001b[39mas\u001b[39;00m \u001b[39mhub\u001b[39;00m\n\u001b[1;32m      9\u001b[0m \u001b[39mdef\u001b[39;00m \u001b[39mload_model_network\u001b[39m():\n",
      "\u001b[0;31mModuleNotFoundError\u001b[0m: No module named 'tensorflow'"
     ]
    }
   ],
   "source": [
    "from depth.depth import load_model_network\n",
    "load_model_network()"
   ]
  },
  {
   "cell_type": "code",
   "execution_count": null,
   "metadata": {},
   "outputs": [],
   "source": []
  }
 ],
 "metadata": {
  "kernelspec": {
   "display_name": "Python 3 (ipykernel)",
   "language": "python",
   "name": "python3"
  },
  "language_info": {
   "codemirror_mode": {
    "name": "ipython",
    "version": 3
   },
   "file_extension": ".py",
   "mimetype": "text/x-python",
   "name": "python",
   "nbconvert_exporter": "python",
   "pygments_lexer": "ipython3",
   "version": "3.9.9"
  },
  "orig_nbformat": 4,
  "vscode": {
   "interpreter": {
    "hash": "7fc3cbf63bd6aa6045e6558a124d823bce64e6fc3b99cd8ac39da55055a28d5a"
   }
  }
 },
 "nbformat": 4,
 "nbformat_minor": 2
}
