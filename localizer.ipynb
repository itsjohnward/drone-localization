{
 "cells": [
  {
   "cell_type": "code",
   "execution_count": 1,
   "id": "b7b9542d-43d0-4915-a634-7f8be1f872f5",
   "metadata": {},
   "outputs": [
    {
     "name": "stderr",
     "output_type": "stream",
     "text": [
      "/usr/local/lib/python3.10/site-packages/tqdm/auto.py:22: TqdmWarning: IProgress not found. Please update jupyter and ipywidgets. See https://ipywidgets.readthedocs.io/en/stable/user_install.html\n",
      "  from .autonotebook import tqdm as notebook_tqdm\n",
      "/usr/local/lib/python3.10/site-packages/torchvision/io/image.py:13: UserWarning: Failed to load image Python extension: \n",
      "  warn(f\"Failed to load image Python extension: {e}\")\n",
      "YOLOv5 🚀 2022-7-29 Python-3.10.5 torch-1.11.0 CPU\n",
      "\n",
      "Fusing layers... \n",
      "YOLOv5s summary: 213 layers, 7225885 parameters, 0 gradients\n",
      "Adding AutoShape... \n"
     ]
    },
    {
     "name": "stdout",
     "output_type": "stream",
     "text": [
      "detections Empty DataFrame\n",
      "Columns: [xmin, ymin, xmax, ymax, confidence, class, name]\n",
      "Index: []\n"
     ]
    },
    {
     "data": {
      "text/plain": [
       "(array([[[          1,           1,           1],\n",
       "         [          1,           1,           1],\n",
       "         [          1,           1,           1],\n",
       "         ...,\n",
       "         [          1,           1,           1],\n",
       "         [          1,           1,           1],\n",
       "         [          1,           1,           1]],\n",
       " \n",
       "        [[          1,           1,           1],\n",
       "         [          1,           1,           1],\n",
       "         [          1,           1,           1],\n",
       "         ...,\n",
       "         [          1,           1,           1],\n",
       "         [          1,           1,           1],\n",
       "         [          1,           1,           1]],\n",
       " \n",
       "        [[          1,           1,           1],\n",
       "         [          1,           1,           1],\n",
       "         [          1,           1,           1],\n",
       "         ...,\n",
       "         [          1,           1,           1],\n",
       "         [          1,           1,           1],\n",
       "         [          1,           1,           1]],\n",
       " \n",
       "        ...,\n",
       " \n",
       "        [[          1,           1,           1],\n",
       "         [          1,           1,           1],\n",
       "         [          1,           1,           1],\n",
       "         ...,\n",
       "         [          1,           1,           1],\n",
       "         [          1,           1,           1],\n",
       "         [          1,           1,           1]],\n",
       " \n",
       "        [[          1,           1,           1],\n",
       "         [          1,           1,           1],\n",
       "         [          1,           1,           1],\n",
       "         ...,\n",
       "         [          1,           1,           1],\n",
       "         [          1,           1,           1],\n",
       "         [          1,           1,           1]],\n",
       " \n",
       "        [[          1,           1,           1],\n",
       "         [          1,           1,           1],\n",
       "         [          1,           1,           1],\n",
       "         ...,\n",
       "         [          1,           1,           1],\n",
       "         [          1,           1,           1],\n",
       "         [          1,           1,           1]]]),\n",
       " Empty DataFrame\n",
       " Columns: [xmin, ymin, xmax, ymax, confidence, class, name]\n",
       " Index: [])"
      ]
     },
     "execution_count": 1,
     "metadata": {},
     "output_type": "execute_result"
    }
   ],
   "source": [
    "import numpy as np\n",
    "from localizer import detect_objects\n",
    "\n",
    "detect_objects(np.ones((255, 255, 3)))"
   ]
  },
  {
   "cell_type": "code",
   "execution_count": null,
   "id": "85d07010-a04f-4305-8e51-1e978d82e7f3",
   "metadata": {},
   "outputs": [],
   "source": []
  }
 ],
 "metadata": {
  "kernelspec": {
   "display_name": "Python 3 (ipykernel)",
   "language": "python",
   "name": "python3"
  },
  "language_info": {
   "codemirror_mode": {
    "name": "ipython",
    "version": 3
   },
   "file_extension": ".py",
   "mimetype": "text/x-python",
   "name": "python",
   "nbconvert_exporter": "python",
   "pygments_lexer": "ipython3",
   "version": "3.10.5"
  }
 },
 "nbformat": 4,
 "nbformat_minor": 5
}
